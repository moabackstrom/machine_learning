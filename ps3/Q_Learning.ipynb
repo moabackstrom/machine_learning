{
 "cells": [
  {
   "cell_type": "code",
   "execution_count": 7,
   "id": "6e7191c8",
   "metadata": {},
   "outputs": [],
   "source": [
    "import numpy as np\n",
    "import gymnasium as gym"
   ]
  },
  {
   "cell_type": "code",
   "execution_count": 8,
   "id": "016e6d2a",
   "metadata": {},
   "outputs": [],
   "source": [
    "slippery = False\n",
    "env = gym.make('FrozenLake-v1', map_name=\"4x4\", is_slippery=slippery, render_mode='human')\n",
    "env.reset()\n",
    "for i in range(10):\n",
    "    env.step(env.action_space.sample())\n",
    "env.close()"
   ]
  },
  {
   "cell_type": "code",
   "execution_count": 9,
   "id": "52738f88",
   "metadata": {},
   "outputs": [
    {
     "name": "stdout",
     "output_type": "stream",
     "text": [
      "Discrete(16)\n",
      "Discrete(4)\n"
     ]
    }
   ],
   "source": [
    "print(env.observation_space)\n",
    "print(env.action_space)\n",
    "\n",
    "n_states = env.observation_space.n\n",
    "n_actions = env.action_space.n"
   ]
  },
  {
   "cell_type": "markdown",
   "id": "f07970d2",
   "metadata": {},
   "source": [
    "0: Move left\n",
    "\n",
    "1: Move down\n",
    "\n",
    "2: Move right\n",
    "\n",
    "3: Move up"
   ]
  },
  {
   "cell_type": "code",
   "execution_count": 10,
   "id": "7b7a381d",
   "metadata": {},
   "outputs": [
    {
     "name": "stdout",
     "output_type": "stream",
     "text": [
      "[[0. 0. 0. 0.]\n",
      " [0. 0. 0. 0.]\n",
      " [0. 0. 0. 0.]\n",
      " [0. 0. 0. 0.]\n",
      " [0. 0. 0. 0.]\n",
      " [0. 0. 0. 0.]\n",
      " [0. 0. 0. 0.]\n",
      " [0. 0. 0. 0.]\n",
      " [0. 0. 0. 0.]\n",
      " [0. 0. 0. 0.]\n",
      " [0. 0. 0. 0.]\n",
      " [0. 0. 0. 0.]\n",
      " [0. 0. 0. 0.]\n",
      " [0. 0. 0. 0.]\n",
      " [0. 0. 0. 0.]\n",
      " [0. 0. 0. 0.]]\n",
      "episode  10 total reward 0.0 epsilon 0.9905473420617097\n",
      "[[0. 0. 0. 0.]\n",
      " [0. 0. 0. 0.]\n",
      " [0. 0. 0. 0.]\n",
      " [0. 0. 0. 0.]\n",
      " [0. 0. 0. 0.]\n",
      " [0. 0. 0. 0.]\n",
      " [0. 0. 0. 0.]\n",
      " [0. 0. 0. 0.]\n",
      " [0. 0. 0. 0.]\n",
      " [0. 0. 0. 0.]\n",
      " [0. 0. 0. 0.]\n",
      " [0. 0. 0. 0.]\n",
      " [0. 0. 0. 0.]\n",
      " [0. 0. 0. 0.]\n",
      " [0. 0. 0. 0.]\n",
      " [0. 0. 0. 0.]]\n",
      "episode  100 total reward 0.0 epsilon 0.9095955471341616\n",
      "[[0. 0. 0. 0.]\n",
      " [0. 0. 0. 0.]\n",
      " [0. 0. 0. 0.]\n",
      " [0. 0. 0. 0.]\n",
      " [0. 0. 0. 0.]\n",
      " [0. 0. 0. 0.]\n",
      " [0. 0. 0. 0.]\n",
      " [0. 0. 0. 0.]\n",
      " [0. 0. 0. 0.]\n",
      " [0. 0. 0. 0.]\n",
      " [0. 0. 0. 0.]\n",
      " [0. 0. 0. 0.]\n",
      " [0. 0. 0. 0.]\n",
      " [0. 0. 0. 0.]\n",
      " [0. 0. 0. 0.]\n",
      " [0. 0. 0. 0.]]\n",
      "episode  500 total reward 0.0 epsilon 0.6262041267270018\n",
      "[[0.415 0.491 0.317 0.416]\n",
      " [0.396 0.    0.094 0.271]\n",
      " [0.216 0.002 0.004 0.036]\n",
      " [0.019 0.    0.    0.002]\n",
      " [0.438 0.562 0.    0.383]\n",
      " [0.    0.    0.    0.   ]\n",
      " [0.    0.    0.    0.019]\n",
      " [0.    0.    0.    0.   ]\n",
      " [0.515 0.    0.648 0.413]\n",
      " [0.372 0.756 0.237 0.   ]\n",
      " [0.126 0.637 0.    0.001]\n",
      " [0.    0.    0.    0.   ]\n",
      " [0.    0.    0.    0.   ]\n",
      " [0.    0.576 0.876 0.315]\n",
      " [0.542 0.7   0.992 0.291]\n",
      " [0.    0.    0.    0.   ]]\n",
      "episode  1000 total reward 0.0 epsilon 0.3994854691128702\n",
      "[[0.531 0.59  0.478 0.531]\n",
      " [0.531 0.    0.25  0.469]\n",
      " [0.379 0.161 0.012 0.186]\n",
      " [0.052 0.    0.005 0.012]\n",
      " [0.59  0.656 0.    0.531]\n",
      " [0.    0.    0.    0.   ]\n",
      " [0.    0.668 0.    0.091]\n",
      " [0.    0.    0.    0.   ]\n",
      " [0.656 0.    0.729 0.59 ]\n",
      " [0.655 0.81  0.803 0.   ]\n",
      " [0.627 0.9   0.    0.369]\n",
      " [0.    0.    0.    0.   ]\n",
      " [0.    0.    0.    0.   ]\n",
      " [0.    0.807 0.9   0.716]\n",
      " [0.807 0.899 1.    0.805]\n",
      " [0.    0.    0.    0.   ]]\n",
      "episode  3000 total reward 1.0 epsilon 0.09729771494947075\n",
      "[[0.531 0.59  0.478 0.531]\n",
      " [0.531 0.    0.317 0.471]\n",
      " [0.436 0.205 0.012 0.203]\n",
      " [0.052 0.    0.005 0.012]\n",
      " [0.59  0.656 0.    0.531]\n",
      " [0.    0.    0.    0.   ]\n",
      " [0.    0.749 0.    0.119]\n",
      " [0.    0.    0.    0.   ]\n",
      " [0.656 0.    0.729 0.59 ]\n",
      " [0.656 0.81  0.81  0.   ]\n",
      " [0.703 0.9   0.    0.562]\n",
      " [0.    0.    0.    0.   ]\n",
      " [0.    0.    0.    0.   ]\n",
      " [0.    0.81  0.9   0.729]\n",
      " [0.81  0.9   1.    0.81 ]\n",
      " [0.    0.    0.    0.   ]]\n",
      "episode  4999 total reward 1.0 epsilon 0.05640745390037226\n",
      "[[0.531 0.59  0.478 0.531]\n",
      " [0.531 0.    0.325 0.471]\n",
      " [0.44  0.205 0.012 0.203]\n",
      " [0.052 0.    0.005 0.012]\n",
      " [0.59  0.656 0.    0.531]\n",
      " [0.    0.    0.    0.   ]\n",
      " [0.    0.749 0.    0.119]\n",
      " [0.    0.    0.    0.   ]\n",
      " [0.656 0.    0.729 0.59 ]\n",
      " [0.656 0.81  0.81  0.   ]\n",
      " [0.708 0.9   0.    0.562]\n",
      " [0.    0.    0.    0.   ]\n",
      " [0.    0.    0.    0.   ]\n",
      " [0.    0.81  0.9   0.729]\n",
      " [0.81  0.9   1.    0.81 ]\n",
      " [0.    0.    0.    0.   ]]\n"
     ]
    }
   ],
   "source": [
    "env = gym.make('FrozenLake-v1', map_name=\"4x4\", is_slippery=slippery)\n",
    "\n",
    "Q = np.zeros((n_states, n_actions))\n",
    "\n",
    "print(Q)\n",
    "num_episodes = 5000\n",
    "print_idx = [10, 100, 500, 1000, 3000, num_episodes-1]\n",
    "# \n",
    "epsilon = 1\n",
    "alpha = 0.1\n",
    "gamma = 0.9\n",
    "decay_rate = 0.001\n",
    "eps_max = 1\n",
    "eps_min = 0.05\n",
    "for i in range(num_episodes):\n",
    "    state, _ = env.reset()\n",
    "    done = False\n",
    "    total_reward = 0\n",
    "    while not done:\n",
    "        if np.random.rand() < epsilon:\n",
    "            action = env.action_space.sample()\n",
    "        else:\n",
    "            action = np.argmax(Q[state])\n",
    "\n",
    "        state_new, reward, terminated, truncated, _ = env.step(action)    \n",
    "        done = terminated or truncated\n",
    "        Q[state, action] = (1-alpha)*Q[state, action] + alpha*(reward + gamma*np.max(Q[state_new]))\n",
    "\n",
    "        state = state_new\n",
    "        total_reward += reward\n",
    "    epsilon = eps_min + (eps_max - eps_min)*np.exp(-decay_rate*i)\n",
    "    if i in print_idx:\n",
    "        print('episode ', i, 'total reward', total_reward, 'epsilon', epsilon)\n",
    "        print(np.round(Q,3))\n"
   ]
  },
  {
   "cell_type": "code",
   "execution_count": 11,
   "id": "3ac41396",
   "metadata": {},
   "outputs": [
    {
     "name": "stdout",
     "output_type": "stream",
     "text": [
      "episode  0 total reward 1.0\n",
      "episode  1 total reward 1.0\n",
      "episode  2 total reward 1.0\n"
     ]
    }
   ],
   "source": [
    "env = gym.make('FrozenLake-v1', map_name=\"4x4\", is_slippery=slippery, render_mode='human')\n",
    "\n",
    "num_episodes = 3\n",
    "\n",
    "for i in range(num_episodes):\n",
    "    state, _ = env.reset()\n",
    "    done = False\n",
    "    total_reward = 0\n",
    "    while not done:\n",
    "        action = np.argmax(Q[state])\n",
    "        state_new, reward, terminated, truncated, _ = env.step(action)    \n",
    "        done = terminated or truncated\n",
    "\n",
    "        state = state_new\n",
    "        total_reward += reward\n",
    "    print('episode ', i, 'total reward', total_reward)\n",
    "env.close()\n"
   ]
  },
  {
   "cell_type": "code",
   "execution_count": 12,
   "id": "1ac274a4",
   "metadata": {},
   "outputs": [
    {
     "name": "stdout",
     "output_type": "stream",
     "text": [
      "[0.531441  0.59049   0.4782969 0.531441 ]\n"
     ]
    },
    {
     "ename": "",
     "evalue": "",
     "output_type": "error",
     "traceback": [
      "\u001b[1;31mThe Kernel crashed while executing code in the the current cell or a previous cell. Please review the code in the cell(s) to identify a possible cause of the failure. Click <a href='https://aka.ms/vscodeJupyterKernelCrash'>here</a> for more info. View Jupyter <a href='command:jupyter.viewOutput'>log</a> for further details."
     ]
    }
   ],
   "source": [
    "def index_to_state(row, col):\n",
    "    return row*4 +col\n",
    "\n",
    "print(Q[index_to_state(0,0)])"
   ]
  }
 ],
 "metadata": {
  "kernelspec": {
   "display_name": "Python 3 (ipykernel)",
   "language": "python",
   "name": "python3"
  },
  "language_info": {
   "codemirror_mode": {
    "name": "ipython",
    "version": 3
   },
   "file_extension": ".py",
   "mimetype": "text/x-python",
   "name": "python",
   "nbconvert_exporter": "python",
   "pygments_lexer": "ipython3",
   "version": "3.9.7"
  }
 },
 "nbformat": 4,
 "nbformat_minor": 5
}
